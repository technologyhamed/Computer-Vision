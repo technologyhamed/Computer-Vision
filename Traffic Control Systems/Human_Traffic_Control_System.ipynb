{
  "metadata": {
    "kernelspec": {
      "language": "python",
      "display_name": "Python 3",
      "name": "python3"
    },
    "language_info": {
      "name": "python",
      "version": "3.10.13",
      "mimetype": "text/x-python",
      "codemirror_mode": {
        "name": "ipython",
        "version": 3
      },
      "pygments_lexer": "ipython3",
      "nbconvert_exporter": "python",
      "file_extension": ".py"
    },
    "kaggle": {
      "accelerator": "none",
      "dataSources": [],
      "dockerImageVersionId": 30746,
      "isInternetEnabled": true,
      "language": "python",
      "sourceType": "notebook",
      "isGpuEnabled": false
    },
    "colab": {
      "name": "Human Traffic Control System",
      "provenance": [],
      "include_colab_link": true
    }
  },
  "nbformat_minor": 0,
  "nbformat": 4,
  "cells": [
    {
      "cell_type": "markdown",
      "metadata": {
        "id": "view-in-github",
        "colab_type": "text"
      },
      "source": [
        "<a href=\"https://colab.research.google.com/github/technologyhamed/Computer-Vision/blob/main/Traffic%20Control%20Systems/Human_Traffic_Control_System.ipynb\" target=\"_parent\"><img src=\"https://colab.research.google.com/assets/colab-badge.svg\" alt=\"Open In Colab\"/></a>"
      ]
    },
    {
      "cell_type": "markdown",
      "source": [
        "Step 1: Setting Up the Environment"
      ],
      "metadata": {
        "id": "npuS66abkcb7"
      }
    },
    {
      "cell_type": "code",
      "source": [
        "!pip install torch torchvision matplotlib opencv-python\n"
      ],
      "metadata": {
        "id": "HgVTwHLekccB"
      },
      "execution_count": null,
      "outputs": []
    },
    {
      "cell_type": "code",
      "source": [
        "# This Python 3 environment comes with many helpful analytics libraries installed\n",
        "# It is defined by the kaggle/python Docker image: https://github.com/kaggle/docker-python\n",
        "# For example, here's several helpful packages to load\n",
        "\n",
        "import numpy as np # linear algebra\n",
        "import pandas as pd # data processing, CSV file I/O (e.g. pd.read_csv)\n",
        "\n",
        "# Input data files are available in the read-only \"../input/\" directory\n",
        "# For example, running this (by clicking run or pressing Shift+Enter) will list all files under the input directory\n",
        "\n",
        "import os\n",
        "for dirname, _, filenames in os.walk('/kaggle/input'):\n",
        "    for filename in filenames:\n",
        "        print(os.path.join(dirname, filename))\n",
        "\n",
        "# You can write up to 20GB to the current directory (/kaggle/working/) that gets preserved as output when you create a version using \"Save & Run All\"\n",
        "# You can also write temporary files to /kaggle/temp/, but they won't be saved outside of the current session"
      ],
      "metadata": {
        "_uuid": "8f2839f25d086af736a60e9eeb907d3b93b6e0e5",
        "_cell_guid": "b1076dfc-b9ad-4769-8c92-a6c4dae69d19",
        "_kg_hide-input": true,
        "trusted": true,
        "id": "d74hHpQFkccE"
      },
      "execution_count": null,
      "outputs": []
    },
    {
      "cell_type": "markdown",
      "source": [
        "Step 2: Data Preparation\n",
        "Prepare your dataset with annotated images. The dataset should have bounding boxes around humans for the localization task."
      ],
      "metadata": {
        "id": "Z_dHYQrDkccF"
      }
    },
    {
      "cell_type": "code",
      "source": [
        "import torch\n",
        "import torchvision\n",
        "from torchvision.datasets import CocoDetection\n",
        "from torchvision.transforms import functional as F\n",
        "\n",
        "# Define the dataset\n",
        "class COCODataset(CocoDetection):\n",
        "    def __init__(self, root, annFile, transform=None):\n",
        "        super(COCODataset, self).__init__(root, annFile, transform)\n",
        "        self.transform = transform\n",
        "\n",
        "    def __getitem__(self, idx):\n",
        "        img, target = super(COCODataset, self).__getitem__(idx)\n",
        "        if self.transform:\n",
        "            img = self.transform(img)\n",
        "        target = {\n",
        "            \"boxes\": torch.tensor([obj[\"bbox\"] for obj in target if obj[\"category_id\"] == 1], dtype=torch.float32),\n",
        "            \"labels\": torch.tensor([1 for _ in target if obj[\"category_id\"] == 1], dtype=torch.int64)\n",
        "        }\n",
        "        return img, target\n",
        "\n",
        "# Instantiate the dataset\n",
        "coco_dataset = COCODataset(root='path_to_coco_images', annFile='path_to_coco_annotations', transform=F.to_tensor)\n",
        "dataloader = torch.utils.data.DataLoader(coco_dataset, batch_size=4, shuffle=True, collate_fn=lambda x: tuple(zip(*x)))\n"
      ],
      "metadata": {
        "trusted": true,
        "id": "yc3UNh2pkccG"
      },
      "execution_count": null,
      "outputs": []
    },
    {
      "cell_type": "markdown",
      "source": [
        "Step 3: Transfer Learning with a Pre-trained Model\n",
        "We'll use a pre-trained model like Faster R-CNN with a ResNet-50 backbone for object detection.\n",
        "\n",
        "Load the Pre-trained Model"
      ],
      "metadata": {
        "id": "QOBZRgvUkccH"
      }
    },
    {
      "cell_type": "code",
      "source": [
        "import torch\n",
        "import torchvision\n",
        "from torchvision.models.detection import fasterrcnn_resnet50_fpn\n",
        "\n",
        "# Load the pre-trained Faster R-CNN model\n",
        "model = fasterrcnn_resnet50_fpn(pretrained=True)\n",
        "\n",
        "# Modify the model to detect only one class (person)\n",
        "num_classes = 2  # 1 class (person) + background\n",
        "in_features = model.roi_heads.box_predictor.cls_score.in_features\n",
        "model.roi_heads.box_predictor = torchvision.models.detection.faster_rcnn.FastRCNNPredictor(in_features, num_classes)\n"
      ],
      "metadata": {
        "id": "lPqE6G4lkccH"
      },
      "execution_count": null,
      "outputs": []
    },
    {
      "cell_type": "markdown",
      "source": [
        "Step 4: Training the Model\n",
        "Define the Training Loop"
      ],
      "metadata": {
        "id": "BVR-nfrxkccI"
      }
    },
    {
      "cell_type": "code",
      "source": [
        "import torch.optim as optim\n",
        "from torch.utils.data import DataLoader\n",
        "from torchvision.datasets import VOCDetection\n",
        "from torchvision.transforms import functional as F\n",
        "\n",
        "# Define dataset and dataloader\n",
        "class CustomDataset(VOCDetection):\n",
        "    def __getitem__(self, idx):\n",
        "        img, target = super(CustomDataset, self).__getitem__(idx)\n",
        "        img = F.to_tensor(img)\n",
        "        target = {\n",
        "            \"boxes\": torch.tensor([obj[\"bndbox\"] for obj in target[\"annotation\"][\"object\"]], dtype=torch.float32),\n",
        "            \"labels\": torch.tensor([1 for _ in target[\"annotation\"][\"object\"]], dtype=torch.int64)\n",
        "        }\n",
        "        return img, target\n",
        "\n",
        "dataset = CustomDataset(root='path_to_data', year='2012', image_set='train', download=True)\n",
        "dataloader = DataLoader(dataset, batch_size=4, shuffle=True, collate_fn=lambda x: tuple(zip(*x)))\n",
        "\n",
        "# Define optimizer and training loop\n",
        "optimizer = optim.SGD(model.parameters(), lr=0.005, momentum=0.9, weight_decay=0.0005)\n",
        "\n",
        "model.train()\n",
        "for epoch in range(num_epochs):\n",
        "    for images, targets in dataloader:\n",
        "        images = list(image.to(device) for image in images)\n",
        "        targets = [{k: v.to(device) for k, v in t.items()} for t in targets]\n",
        "\n",
        "        loss_dict = model(images, targets)\n",
        "        losses = sum(loss for loss in loss_dict.values())\n",
        "\n",
        "        optimizer.zero_grad()\n",
        "        losses.backward()\n",
        "        optimizer.step()\n",
        "\n",
        "    print(f\"Epoch #{epoch} loss: {losses.item()}\")\n"
      ],
      "metadata": {
        "id": "RW7hEcdLkccJ"
      },
      "execution_count": null,
      "outputs": []
    },
    {
      "cell_type": "markdown",
      "source": [
        "Step 5: Testing the Model\n",
        "Define the Testing Loop"
      ],
      "metadata": {
        "id": "b8W3lF38kccK"
      }
    },
    {
      "cell_type": "code",
      "source": [
        "from PIL import Image\n",
        "import matplotlib.pyplot as plt\n",
        "import cv2\n",
        "\n",
        "model.eval()\n",
        "test_image = Image.open(\"path_to_test_image.jpg\")\n",
        "test_image_tensor = F.to_tensor(test_image).unsqueeze(0).to(device)\n",
        "\n",
        "with torch.no_grad():\n",
        "    prediction = model(test_image_tensor)\n",
        "\n",
        "# Visualize the prediction\n",
        "image = cv2.imread(\"path_to_test_image.jpg\")\n",
        "for element in prediction[0][\"boxes\"]:\n",
        "    box = element.int().cpu().numpy()\n",
        "    cv2.rectangle(image, (box[0], box[1]), (box[2], box[3]), (255, 0, 0), 2)\n",
        "\n",
        "plt.imshow(cv2.cvtColor(image, cv2.COLOR_BGR2RGB))\n",
        "plt.show()\n"
      ],
      "metadata": {
        "id": "s03CoPzokccK"
      },
      "execution_count": null,
      "outputs": []
    },
    {
      "cell_type": "markdown",
      "source": [
        "Step 6: Real-time Human Traffic Control\n",
        "Real-time Inference with Webcam"
      ],
      "metadata": {
        "id": "LZwrc116kccL"
      }
    },
    {
      "cell_type": "code",
      "source": [
        "cap = cv2.VideoCapture(0)\n",
        "\n",
        "while cap.isOpened():\n",
        "    ret, frame = cap.read()\n",
        "    if not ret:\n",
        "        break\n",
        "\n",
        "    frame_tensor = F.to_tensor(frame).unsqueeze(0).to(device)\n",
        "\n",
        "    with torch.no_grad():\n",
        "        prediction = model(frame_tensor)\n",
        "\n",
        "    for element in prediction[0][\"boxes\"]:\n",
        "        box = element.int().cpu().numpy()\n",
        "        cv2.rectangle(frame, (box[0], box[1]), (box[2], box[3]), (255, 0, 0), 2)\n",
        "\n",
        "    cv2.imshow('frame', frame)\n",
        "    if cv2.waitKey(1) & 0xFF == ord('q'):\n",
        "        break\n",
        "\n",
        "cap.release()\n",
        "cv2.destroyAllWindows()\n"
      ],
      "metadata": {
        "id": "aKlNcwrpkccL"
      },
      "execution_count": null,
      "outputs": []
    },
    {
      "cell_type": "markdown",
      "source": [
        "Step 7: Localization\n",
        "To localize and track humans over time, you can integrate object tracking algorithms like SORT or DeepSORT.\n",
        "\n",
        "Example Integration with SORT"
      ],
      "metadata": {
        "id": "rcS-lAKtkccL"
      }
    },
    {
      "cell_type": "code",
      "source": [
        "from sort import Sort\n",
        "\n",
        "tracker = Sort()\n",
        "\n",
        "cap = cv2.VideoCapture(0)\n",
        "\n",
        "while cap.isOpened():\n",
        "    ret, frame = cap.read()\n",
        "    if not ret:\n",
        "        break\n",
        "\n",
        "    frame_tensor = F.to_tensor(frame).unsqueeze(0).to(device)\n",
        "\n",
        "    with torch.no_grad():\n",
        "        prediction = model(frame_tensor)\n",
        "\n",
        "    dets = []\n",
        "    for element in prediction[0][\"boxes\"]:\n",
        "        box = element.int().cpu().numpy()\n",
        "        dets.append([box[0], box[1], box[2], box[3], prediction[0][\"scores\"].cpu().numpy()])\n",
        "\n",
        "    dets = np.array(dets)\n",
        "    tracks = tracker.update(dets)\n",
        "\n",
        "    for track in tracks:\n",
        "        cv2.rectangle(frame, (track[0], track[1]), (track[2], track[3]), (255, 0, 0), 2)\n",
        "        cv2.putText(frame, str(int(track[4])), (track[0], track[1]-10), 0, 0.5, (255, 0, 0), 2)\n",
        "\n",
        "    cv2.imshow('frame', frame)\n",
        "    if cv2.waitKey(1) & 0xFF == ord('q'):\n",
        "        break\n",
        "\n",
        "cap.release()\n",
        "cv2.destroyAllWindows()\n"
      ],
      "metadata": {
        "id": "TLJv7s5FkccM"
      },
      "execution_count": null,
      "outputs": []
    },
    {
      "cell_type": "markdown",
      "source": [
        "This provides a comprehensive approach to creating a real-time human traffic control system using transfer learning and machine vision. You can further customize and optimize the system based on your specific requirements and dataset."
      ],
      "metadata": {
        "id": "mFT2vPThkccM"
      }
    }
  ]
}